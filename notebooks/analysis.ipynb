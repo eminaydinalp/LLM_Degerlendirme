{
 "cells": [
  {
   "cell_type": "markdown",
   "id": "e9c24c94",
   "metadata": {},
   "source": [
    "# DeepSeek-Chat Görsel Sonuçlar"
   ]
  },
  {
   "cell_type": "code",
   "execution_count": 12,
   "id": "931dbeab",
   "metadata": {},
   "outputs": [
    {
     "name": "stdout",
     "output_type": "stream",
     "text": [
      "✅ Tüm grafikler kaydedildi: ../data/ratings/deepseek_ratings/plots\n"
     ]
    }
   ],
   "source": [
    "import os, json\n",
    "import pandas as pd\n",
    "import matplotlib.pyplot as plt\n",
    "\n",
    "# 1) Tüm dosyaları topla\n",
    "ratings_dir = \"../data/ratings/deepseek_ratings\"\n",
    "rows = []\n",
    "for fn in os.listdir(ratings_dir):\n",
    "    if fn.endswith(\".json\"):\n",
    "        with open(os.path.join(ratings_dir, fn), \"r\", encoding=\"utf-8\") as f:\n",
    "            rows.extend(json.load(f))\n",
    "\n",
    "df = pd.DataFrame(rows)\n",
    "\n",
    "# 2) ratings kolonunu aç ve overall ekle\n",
    "rat = df[\"ratings\"].apply(pd.Series)\n",
    "df = pd.concat([df.drop(columns=[\"ratings\"]), rat], axis=1)\n",
    "df[\"overall\"] = df[[\"word_usage\", \"clarity\", \"grammar\", \"naturalness\"]].mean(axis=1)\n",
    "\n",
    "# 3) Model×Seviye ortalamaları\n",
    "model_level_avg = (\n",
    "    df.groupby([\"model\", \"level\"], as_index=False)[\n",
    "        [\"word_usage\", \"clarity\", \"grammar\", \"naturalness\", \"overall\"]\n",
    "    ].mean()\n",
    ")\n",
    "\n",
    "# 4) Çıktı klasörü\n",
    "out_dir = \"../data/ratings/deepseek_ratings/plots\"\n",
    "os.makedirs(out_dir, exist_ok=True)\n",
    "\n",
    "# 5) Overall grafiği\n",
    "pivot = model_level_avg.pivot(index=\"model\", columns=\"level\", values=\"overall\")\n",
    "pivot.plot(kind=\"bar\", figsize=(12, 6))\n",
    "plt.ylabel(\"Average Overall Score\")\n",
    "plt.title(\"Model Performance by CEFR Level\")\n",
    "plt.xticks(rotation=45, ha=\"right\")\n",
    "plt.tight_layout()\n",
    "plt.savefig(os.path.join(out_dir, \"overall_performance.png\"), dpi=300)\n",
    "plt.close()\n",
    "\n",
    "# 6) Kriter bazlı grafikler\n",
    "for col in [\"word_usage\", \"clarity\", \"grammar\", \"naturalness\"]:\n",
    "    pivot_k = model_level_avg.pivot(index=\"model\", columns=\"level\", values=col)\n",
    "    pivot_k.plot(kind=\"bar\", figsize=(12, 6))\n",
    "    plt.ylabel(f\"Average {col.capitalize()}\")\n",
    "    plt.title(f\"Model × Level — {col.capitalize()}\")\n",
    "    plt.xticks(rotation=45, ha=\"right\")\n",
    "    plt.tight_layout()\n",
    "    plt.savefig(os.path.join(out_dir, f\"{col}_performance.png\"), dpi=300)\n",
    "    plt.close()\n",
    "\n",
    "print(f\"✅ Tüm grafikler kaydedildi: {out_dir}\")\n",
    "\n"
   ]
  },
  {
   "cell_type": "markdown",
   "id": "19b3b387",
   "metadata": {},
   "source": [
    "# DeepSeek-Chat CSV Sonuçları"
   ]
  },
  {
   "cell_type": "code",
   "execution_count": null,
   "id": "d1596363",
   "metadata": {},
   "outputs": [
    {
     "name": "stdout",
     "output_type": "stream",
     "text": [
      "✅ Analiz CSV dosyaları kaydedildi:\n",
      "- ../data/analysis_results/model_level_avg.csv\n",
      "- ../data/analysis_results/criteria_ranking.csv\n",
      "- ../data/analysis_results/overall_ranking.csv\n"
     ]
    }
   ],
   "source": [
    "import os, json\n",
    "import pandas as pd\n",
    "\n",
    "# --- 1) Verileri yükle ---\n",
    "ratings_dir = \"../data/ratings/deepseek_ratings\"\n",
    "rows = []\n",
    "for fn in os.listdir(ratings_dir):\n",
    "    if fn.endswith(\".json\"):\n",
    "        with open(os.path.join(ratings_dir, fn), \"r\", encoding=\"utf-8\") as f:\n",
    "            rows.extend(json.load(f))\n",
    "\n",
    "df = pd.DataFrame(rows)\n",
    "\n",
    "# --- 2) ratings dict'ini aç ---\n",
    "rat = df[\"ratings\"].apply(pd.Series)\n",
    "df = pd.concat([df.drop(columns=[\"ratings\"]), rat], axis=1)\n",
    "\n",
    "# overall ekle\n",
    "df[\"overall\"] = df[[\"word_usage\", \"clarity\", \"grammar\", \"naturalness\"]].mean(axis=1)\n",
    "\n",
    "# --- 3) Model × Seviye ortalamaları ---\n",
    "model_level_avg = (\n",
    "    df.groupby([\"model\", \"level\"], as_index=False)[\n",
    "        [\"word_usage\", \"clarity\", \"grammar\", \"naturalness\", \"overall\"]\n",
    "    ].mean()\n",
    ")\n",
    "\n",
    "# --- 4) Her kriter için genel sıralama (tüm seviyeler birleşik) ---\n",
    "criteria_ranking = (\n",
    "    df.groupby(\"model\")[[\"word_usage\", \"clarity\", \"grammar\", \"naturalness\", \"overall\"]]\n",
    "    .mean()\n",
    "    .sort_values(\"overall\", ascending=False)\n",
    "    .reset_index()\n",
    ")\n",
    "\n",
    "# --- 5) Genel sıralama sadece overall üzerinden ---\n",
    "overall_ranking = (\n",
    "    df.groupby(\"model\")[\"overall\"]\n",
    "    .mean()\n",
    "    .sort_values(ascending=False)\n",
    "    .reset_index()\n",
    ")\n",
    "\n",
    "# --- 6) CSV olarak kaydet ---\n",
    "out_dir = \"../data/ratings/deepseek_ratings/analysis_results\"\n",
    "os.makedirs(out_dir, exist_ok=True)\n",
    "\n",
    "model_level_avg.to_csv(os.path.join(out_dir, \"model_level_avg.csv\"), index=False)\n",
    "criteria_ranking.to_csv(os.path.join(out_dir, \"criteria_ranking.csv\"), index=False)\n",
    "overall_ranking.to_csv(os.path.join(out_dir, \"overall_ranking.csv\"), index=False)\n",
    "\n",
    "print(\"✅ Analiz CSV dosyaları kaydedildi:\")\n",
    "print(f\"- {os.path.join(out_dir, 'model_level_avg.csv')}\")\n",
    "print(f\"- {os.path.join(out_dir, 'criteria_ranking.csv')}\")\n",
    "print(f\"- {os.path.join(out_dir, 'overall_ranking.csv')}\")\n"
   ]
  },
  {
   "cell_type": "markdown",
   "id": "39e8a6f1",
   "metadata": {},
   "source": [
    "# ChatGPT-5 Sonuçlarının Analizi"
   ]
  },
  {
   "cell_type": "code",
   "execution_count": 16,
   "id": "414ab12e",
   "metadata": {},
   "outputs": [
    {
     "name": "stdout",
     "output_type": "stream",
     "text": [
      "✅ Analiz CSV dosyaları kaydedildi:\n",
      "- ../data/ratings/chatgpt_ratings/analysis_results/model_level_avg.csv\n",
      "- ../data/ratings/chatgpt_ratings/analysis_results/criteria_ranking.csv\n",
      "- ../data/ratings/chatgpt_ratings/analysis_results/overall_ranking.csv\n"
     ]
    }
   ],
   "source": [
    "import os, json\n",
    "import pandas as pd\n",
    "\n",
    "# --- 1) Verileri yükle ---\n",
    "ratings_dir = \"../data/ratings/chatgpt_ratings\"\n",
    "rows = []\n",
    "for fn in os.listdir(ratings_dir):\n",
    "    if fn.endswith(\".json\"):\n",
    "        with open(os.path.join(ratings_dir, fn), \"r\", encoding=\"utf-8\") as f:\n",
    "            rows.extend(json.load(f))\n",
    "\n",
    "df = pd.DataFrame(rows)\n",
    "\n",
    "# --- 2) ratings dict'ini aç ---\n",
    "rat = df[\"ratings\"].apply(pd.Series)\n",
    "df = pd.concat([df.drop(columns=[\"ratings\"]), rat], axis=1)\n",
    "\n",
    "# overall ekle\n",
    "df[\"overall\"] = df[[\"word_usage\", \"clarity\", \"grammar\", \"naturalness\"]].mean(axis=1)\n",
    "\n",
    "# --- 3) Model × Seviye ortalamaları ---\n",
    "model_level_avg = (\n",
    "    df.groupby([\"model\", \"level\"], as_index=False)[\n",
    "        [\"word_usage\", \"clarity\", \"grammar\", \"naturalness\", \"overall\"]\n",
    "    ].mean()\n",
    ")\n",
    "\n",
    "# --- 4) Her kriter için genel sıralama (tüm seviyeler birleşik) ---\n",
    "criteria_ranking = (\n",
    "    df.groupby(\"model\")[[\"word_usage\", \"clarity\", \"grammar\", \"naturalness\", \"overall\"]]\n",
    "    .mean()\n",
    "    .sort_values(\"overall\", ascending=False)\n",
    "    .reset_index()\n",
    ")\n",
    "\n",
    "# --- 5) Genel sıralama sadece overall üzerinden ---\n",
    "overall_ranking = (\n",
    "    df.groupby(\"model\")[\"overall\"]\n",
    "    .mean()\n",
    "    .sort_values(ascending=False)\n",
    "    .reset_index()\n",
    ")\n",
    "\n",
    "# --- 6) CSV olarak kaydet ---\n",
    "out_dir = \"../data/ratings/chatgpt_ratings/analysis_results\"\n",
    "os.makedirs(out_dir, exist_ok=True)\n",
    "\n",
    "model_level_avg.to_csv(os.path.join(out_dir, \"model_level_avg.csv\"), index=False)\n",
    "criteria_ranking.to_csv(os.path.join(out_dir, \"criteria_ranking.csv\"), index=False)\n",
    "overall_ranking.to_csv(os.path.join(out_dir, \"overall_ranking.csv\"), index=False)\n",
    "\n",
    "print(\"✅ Analiz CSV dosyaları kaydedildi:\")\n",
    "print(f\"- {os.path.join(out_dir, 'model_level_avg.csv')}\")\n",
    "print(f\"- {os.path.join(out_dir, 'criteria_ranking.csv')}\")\n",
    "print(f\"- {os.path.join(out_dir, 'overall_ranking.csv')}\")"
   ]
  },
  {
   "cell_type": "markdown",
   "id": "72da77d3",
   "metadata": {},
   "source": [
    "# ChapGPT-5 Görsel Sonuçlar"
   ]
  },
  {
   "cell_type": "code",
   "execution_count": 17,
   "id": "f441fe1d",
   "metadata": {},
   "outputs": [
    {
     "name": "stdout",
     "output_type": "stream",
     "text": [
      "✅ Tüm grafikler kaydedildi: ../data/ratings/chatgpt_ratings/plots\n"
     ]
    }
   ],
   "source": [
    "import os, json\n",
    "import pandas as pd\n",
    "import matplotlib.pyplot as plt\n",
    "\n",
    "# 1) Tüm dosyaları topla\n",
    "ratings_dir = \"../data/ratings/chatgpt_ratings\"\n",
    "rows = []\n",
    "for fn in os.listdir(ratings_dir):\n",
    "    if fn.endswith(\".json\"):\n",
    "        with open(os.path.join(ratings_dir, fn), \"r\", encoding=\"utf-8\") as f:\n",
    "            rows.extend(json.load(f))\n",
    "\n",
    "df = pd.DataFrame(rows)\n",
    "\n",
    "# 2) ratings kolonunu aç ve overall ekle\n",
    "rat = df[\"ratings\"].apply(pd.Series)\n",
    "df = pd.concat([df.drop(columns=[\"ratings\"]), rat], axis=1)\n",
    "df[\"overall\"] = df[[\"word_usage\", \"clarity\", \"grammar\", \"naturalness\"]].mean(axis=1)\n",
    "\n",
    "# 3) Model×Seviye ortalamaları\n",
    "model_level_avg = (\n",
    "    df.groupby([\"model\", \"level\"], as_index=False)[\n",
    "        [\"word_usage\", \"clarity\", \"grammar\", \"naturalness\", \"overall\"]\n",
    "    ].mean()\n",
    ")\n",
    "\n",
    "# 4) Çıktı klasörü\n",
    "out_dir = \"../data/ratings/chatgpt_ratings/plots\"\n",
    "os.makedirs(out_dir, exist_ok=True)\n",
    "\n",
    "# 5) Overall grafiği\n",
    "pivot = model_level_avg.pivot(index=\"model\", columns=\"level\", values=\"overall\")\n",
    "pivot.plot(kind=\"bar\", figsize=(12, 6))\n",
    "plt.ylabel(\"Average Overall Score\")\n",
    "plt.title(\"Model Performance by CEFR Level\")\n",
    "plt.xticks(rotation=45, ha=\"right\")\n",
    "plt.tight_layout()\n",
    "plt.savefig(os.path.join(out_dir, \"overall_performance.png\"), dpi=300)\n",
    "plt.close()\n",
    "\n",
    "# 6) Kriter bazlı grafikler\n",
    "for col in [\"word_usage\", \"clarity\", \"grammar\", \"naturalness\"]:\n",
    "    pivot_k = model_level_avg.pivot(index=\"model\", columns=\"level\", values=col)\n",
    "    pivot_k.plot(kind=\"bar\", figsize=(12, 6))\n",
    "    plt.ylabel(f\"Average {col.capitalize()}\")\n",
    "    plt.title(f\"Model × Level — {col.capitalize()}\")\n",
    "    plt.xticks(rotation=45, ha=\"right\")\n",
    "    plt.tight_layout()\n",
    "    plt.savefig(os.path.join(out_dir, f\"{col}_performance.png\"), dpi=300)\n",
    "    plt.close()\n",
    "\n",
    "print(f\"✅ Tüm grafikler kaydedildi: {out_dir}\")"
   ]
  },
  {
   "cell_type": "code",
   "execution_count": null,
   "id": "35156d0e",
   "metadata": {},
   "outputs": [],
   "source": []
  }
 ],
 "metadata": {
  "kernelspec": {
   "display_name": "venv",
   "language": "python",
   "name": "python3"
  },
  "language_info": {
   "codemirror_mode": {
    "name": "ipython",
    "version": 3
   },
   "file_extension": ".py",
   "mimetype": "text/x-python",
   "name": "python",
   "nbconvert_exporter": "python",
   "pygments_lexer": "ipython3",
   "version": "3.12.3"
  }
 },
 "nbformat": 4,
 "nbformat_minor": 5
}
