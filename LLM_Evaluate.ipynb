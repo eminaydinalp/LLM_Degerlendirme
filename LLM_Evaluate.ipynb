{
 "cells": [
  {
   "cell_type": "markdown",
   "id": "a2257c50-a887-4b2f-83d8-2e468931efa3",
   "metadata": {},
   "source": [
    "# Tek Bir JSON Dosyasından Veri Çekelim"
   ]
  },
  {
   "cell_type": "code",
   "execution_count": 1,
   "id": "bcf1138f-5d3b-42be-b7b3-85ecc15463d7",
   "metadata": {},
   "outputs": [
    {
     "name": "stdout",
     "output_type": "stream",
     "text": [
      "{'model': 'Llama-3.2-8B-Instruct/Llama-3.2-8B-Instruct-Q4_K_M.gguf', 'level': 'A1', 'word': 'age', 'sentence': 'My birthday is on January 12th.'}\n",
      "{'model': 'Llama-3.2-8B-Instruct/Llama-3.2-8B-Instruct-Q4_K_M.gguf', 'level': 'A1', 'word': 'animal', 'sentence': 'The cat is a pet animal.'}\n",
      "{'model': 'Llama-3.2-8B-Instruct/Llama-3.2-8B-Instruct-Q4_K_M.gguf', 'level': 'A1', 'word': 'ask', 'sentence': 'Can you ask your teacher for help?'}\n",
      "{'model': 'Llama-3.2-8B-Instruct/Llama-3.2-8B-Instruct-Q4_K_M.gguf', 'level': 'A1', 'word': 'computer', 'sentence': 'The computer is very useful for students.'}\n",
      "{'model': 'Llama-3.2-8B-Instruct/Llama-3.2-8B-Instruct-Q4_K_M.gguf', 'level': 'A1', 'word': 'eat', 'sentence': 'I like to eat pizza on Fridays.'}\n"
     ]
    }
   ],
   "source": [
    "import json\n",
    "\n",
    "# Örnek dosya yolu\n",
    "file_path = \"Model2.json\"\n",
    "\n",
    "# JSON dosyasını oku\n",
    "with open(file_path, \"r\", encoding=\"utf-8\") as f:\n",
    "    data = json.load(f)\n",
    "\n",
    "entries = []\n",
    "\n",
    "model_name = data[\"model_name\"]\n",
    "\n",
    "for generation in data[\"generations\"]:\n",
    "    level = generation[\"cefr_level\"]\n",
    "    words = generation[\"word_list\"]\n",
    "    sentences = generation[\"generated_sentences\"]\n",
    "\n",
    "    for word, sentence in zip(words, sentences):\n",
    "        entries.append({\n",
    "            \"model\": model_name,\n",
    "            \"level\": level,\n",
    "            \"word\": word,\n",
    "            \"sentence\": sentence\n",
    "        })\n",
    "\n",
    "# Kontrol amaçlı ilk birkaç girdiyi yazdıralım\n",
    "for e in entries[:5]:\n",
    "    print(e)\n"
   ]
  },
  {
   "cell_type": "markdown",
   "id": "6b7433be-4471-4de7-a743-1d2cb44002b0",
   "metadata": {},
   "source": [
    "# Çoklu Dosyadan Veriyi Al, Etiketle, Karıştır"
   ]
  },
  {
   "cell_type": "code",
   "execution_count": 3,
   "id": "620a32f9-a996-48e9-80e6-b9f6985599de",
   "metadata": {},
   "outputs": [
    {
     "name": "stdout",
     "output_type": "stream",
     "text": [
      "\n",
      "Sample task for word 'age' (Level: A1)\n",
      "\n",
      "Sentence A: My age is seven years old.\n",
      "Sentence B: My age is twenty-five years old.\n",
      "Sentence C: My birthday is on January 12th.\n",
      "Sentence D: I am 10 years old, and I love playing with my pet dog.\n",
      "Sentence E: I am ten years old.\n",
      "Sentence F: I am 20 years old.\n"
     ]
    }
   ],
   "source": [
    "import os\n",
    "import json\n",
    "import random\n",
    "from collections import defaultdict\n",
    "\n",
    "# 📁 JSON dosyalarının bulunduğu klasör\n",
    "json_folder = \"data/model_results\"\n",
    "\n",
    "# 💾 Tüm cümleleri saklayacağımız yer\n",
    "all_entries = []\n",
    "\n",
    "# 📥 Tüm dosyaları oku\n",
    "for filename in os.listdir(json_folder):\n",
    "    if filename.endswith(\".json\"):\n",
    "        filepath = os.path.join(json_folder, filename)\n",
    "        with open(filepath, \"r\", encoding=\"utf-8\") as f:\n",
    "            data = json.load(f)\n",
    "            model_name = data[\"model_name\"]\n",
    "            for generation in data[\"generations\"]:\n",
    "                level = generation[\"cefr_level\"]\n",
    "                words = generation[\"word_list\"]\n",
    "                sentences = generation[\"generated_sentences\"]\n",
    "                for word, sentence in zip(words, sentences):\n",
    "                    all_entries.append({\n",
    "                        \"model\": model_name,\n",
    "                        \"level\": level,\n",
    "                        \"word\": word,\n",
    "                        \"sentence\": sentence\n",
    "                    })\n",
    "\n",
    "# ✅ Her kelime için 6 modelin cümlesini gruplama\n",
    "grouped = defaultdict(list)\n",
    "\n",
    "for entry in all_entries:\n",
    "    key = (entry[\"level\"], entry[\"word\"])  # örnek: (\"A1\", \"age\")\n",
    "    grouped[key].append(entry)\n",
    "\n",
    "# ✅ Cümleleri karıştır, etiketle ve mapping oluştur\n",
    "all_tasks = []\n",
    "\n",
    "for (level, word), sentence_group in grouped.items():\n",
    "    if len(sentence_group) != 6:\n",
    "        print(f\"Uyarı: {level} seviyesinde '{word}' kelimesi için {len(sentence_group)} cümle var. Atlanıyor.\")\n",
    "        continue\n",
    "\n",
    "    # Cümleleri karıştır\n",
    "    random.shuffle(sentence_group)\n",
    "\n",
    "    labels = [\"Sentence A\", \"Sentence B\", \"Sentence C\", \"Sentence D\", \"Sentence E\", \"Sentence F\"]\n",
    "\n",
    "    labeled_sentences = []\n",
    "    mapping = {}\n",
    "\n",
    "    for label, item in zip(labels, sentence_group):\n",
    "        labeled_sentences.append((label, item[\"sentence\"]))\n",
    "        mapping[label] = {\n",
    "            \"model\": item[\"model\"],\n",
    "            \"level\": level,\n",
    "            \"word\": word,\n",
    "            \"sentence\": item[\"sentence\"]\n",
    "        }\n",
    "\n",
    "    all_tasks.append({\n",
    "        \"level\": level,\n",
    "        \"word\": word,\n",
    "        \"labeled_sentences\": labeled_sentences,\n",
    "        \"mapping\": mapping\n",
    "    })\n",
    "\n",
    "# 🔍 Örnek çıktı (bir task)\n",
    "example = all_tasks[0]\n",
    "print(f\"\\nSample task for word '{example['word']}' (Level: {example['level']})\\n\")\n",
    "for label, sentence in example[\"labeled_sentences\"]:\n",
    "    print(f\"{label}: {sentence}\")\n"
   ]
  },
  {
   "cell_type": "code",
   "execution_count": null,
   "id": "ebae8c22-5f5c-403b-9efb-454160183071",
   "metadata": {},
   "outputs": [],
   "source": []
  }
 ],
 "metadata": {
  "kernelspec": {
   "display_name": "Python 3 (ipykernel)",
   "language": "python",
   "name": "python3"
  },
  "language_info": {
   "codemirror_mode": {
    "name": "ipython",
    "version": 3
   },
   "file_extension": ".py",
   "mimetype": "text/x-python",
   "name": "python",
   "nbconvert_exporter": "python",
   "pygments_lexer": "ipython3",
   "version": "3.12.3"
  }
 },
 "nbformat": 4,
 "nbformat_minor": 5
}
